{
  "nbformat": 4,
  "nbformat_minor": 0,
  "metadata": {
    "colab": {
      "provenance": [],
      "authorship_tag": "ABX9TyOo5Fs93pxmVlbNeXl00b/j",
      "include_colab_link": true
    },
    "kernelspec": {
      "name": "python3",
      "display_name": "Python 3"
    },
    "language_info": {
      "name": "python"
    }
  },
  "cells": [
    {
      "cell_type": "markdown",
      "metadata": {
        "id": "view-in-github",
        "colab_type": "text"
      },
      "source": [
        "<a href=\"https://colab.research.google.com/github/Mateusz115/advertisingForum/blob/master/intro.ipynb\" target=\"_parent\"><img src=\"https://colab.research.google.com/assets/colab-badge.svg\" alt=\"Open In Colab\"/></a>"
      ]
    },
    {
      "cell_type": "code",
      "execution_count": 1,
      "metadata": {
        "colab": {
          "base_uri": "https://localhost:8080/"
        },
        "id": "GLCLRXeit1tw",
        "outputId": "b2714dbf-4661-41b5-fcb2-6ba6dec6cb63"
      },
      "outputs": [
        {
          "output_type": "stream",
          "name": "stdout",
          "text": [
            "Hallo Colab\n"
          ]
        }
      ],
      "source": [
        "print('Hallo Colab')"
      ]
    },
    {
      "cell_type": "markdown",
      "source": [
        "# Tekst"
      ],
      "metadata": {
        "id": "YyUr9qhxudZe"
      }
    },
    {
      "cell_type": "code",
      "source": [],
      "metadata": {
        "id": "XGt4Iog_yMKE"
      },
      "execution_count": null,
      "outputs": []
    },
    {
      "cell_type": "code",
      "source": [],
      "metadata": {
        "id": "sieMWxzxyMdL"
      },
      "execution_count": null,
      "outputs": []
    }
  ]
}